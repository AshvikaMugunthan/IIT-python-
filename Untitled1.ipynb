{
 "cells": [
  {
   "cell_type": "markdown",
   "id": "da39410f-308d-4cb0-90e6-3ba23e7af5e0",
   "metadata": {},
   "source": [
    "### python (first week)"
   ]
  },
  {
   "cell_type": "markdown",
   "id": "234c852d-b784-4139-be95-384855cdebf2",
   "metadata": {},
   "source": [
    "In python syntax,the first letter(p) of built-in function(print function) must be written in lower case.Strings should be written inside pareantheses and within single or double quotation marks."
   ]
  },
  {
   "cell_type": "markdown",
   "id": "e7013962-7714-4ad7-aa0c-9cedc30de7c2",
   "metadata": {},
   "source": [
    "eg:"
   ]
  },
  {
   "cell_type": "code",
   "execution_count": 2,
   "id": "4f66b1d1-8d88-48f4-82fc-54dec45f2c69",
   "metadata": {},
   "outputs": [
    {
     "name": "stdout",
     "output_type": "stream",
     "text": [
      "Hello!\n"
     ]
    }
   ],
   "source": [
    "print(\"Hello!\")"
   ]
  },
  {
   "cell_type": "code",
   "execution_count": 3,
   "id": "ed81cbe4-b9d4-4a8e-9de2-0b25c52ec022",
   "metadata": {},
   "outputs": [
    {
     "name": "stdout",
     "output_type": "stream",
     "text": [
      "hello!\n"
     ]
    }
   ],
   "source": [
    "print('hello!')"
   ]
  },
  {
   "cell_type": "markdown",
   "id": "51d4d177-a21d-457c-ac20-4a1e1988d5cc",
   "metadata": {},
   "source": [
    "Jupyter Notebook lets us write and run code in cells,and text using markdown and see outputs insyantly."
   ]
  },
  {
   "cell_type": "markdown",
   "id": "85c2d03d-e141-4107-a367-243713952879",
   "metadata": {},
   "source": [
    "* Guido van Rossum is the creator of python programming language.\n",
    "* .py is the correct file extension for python files.\n",
    "* Jupyter Notebook is mainly used for Interactive coding and data visualization.\n",
    "* Jupyter Notebook saves filess as .pynb ."
   ]
  },
  {
   "cell_type": "code",
   "execution_count": null,
   "id": "6c0e56f7-e5ab-4bd5-b670-dc110ba9b3fe",
   "metadata": {},
   "outputs": [],
   "source": []
  }
 ],
 "metadata": {
  "kernelspec": {
   "display_name": "Python 3 (ipykernel)",
   "language": "python",
   "name": "python3"
  },
  "language_info": {
   "codemirror_mode": {
    "name": "ipython",
    "version": 3
   },
   "file_extension": ".py",
   "mimetype": "text/x-python",
   "name": "python",
   "nbconvert_exporter": "python",
   "pygments_lexer": "ipython3",
   "version": "3.14.0"
  }
 },
 "nbformat": 4,
 "nbformat_minor": 5
}
