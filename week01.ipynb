{
  "metadata": {
    "kernelspec": {
      "name": "xpython",
      "display_name": "Python 3.13 (XPython)",
      "language": "python"
    },
    "language_info": {
      "file_extension": ".py",
      "mimetype": "text/x-python",
      "name": "python",
      "version": "3.13.1"
    }
  },
  "nbformat_minor": 5,
  "nbformat": 4,
  "cells": [
    {
      "id": "d5533364-2ff7-40e2-9a14-49b4b9d74b5d",
      "cell_type": "code",
      "source": "\nprint(\"My name is Ashvika Mugunthan\")\nprint(\"I finished my advanced level examinations and waiting for the university\")\nprint(\"I am 20 years old\")\nprint(\"I am currently studying python programming at IIt campus\")\n",
      "metadata": {
        "trusted": true
      },
      "outputs": [
        {
          "name": "stdout",
          "output_type": "stream",
          "text": "My name is Ashvika Mugunthan\nI finished my advanced level examinations and waiting for the university\nI am 20 years old\nI am currently studying python programming at IIt campus\n"
        }
      ],
      "execution_count": 10
    },
    {
      "id": "fca6348a-5dbe-4d42-97ca-273d9491bee6",
      "cell_type": "code",
      "source": "",
      "metadata": {
        "trusted": true
      },
      "outputs": [],
      "execution_count": null
    }
  ]
}